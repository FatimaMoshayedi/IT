{
 "cells": [
  {
   "cell_type": "markdown",
   "metadata": {},
   "source": [
    "You will solve some everyday life problems by applying data and control structures in Python. A client of the company you work for asks for a list of very simple programs that would make many processes easier. However, the IT department is very busy with time, so they ask you to do the programming.\n",
    "\n",
    "Level 1 - Exercise 1\n",
    "Body mass index calculator\n",
    "\n",
    "Write a function that calculates the BMI entered by the user, that is, whoever runs it will have to enter this data. "
   ]
  },
  {
   "cell_type": "code",
   "execution_count": 1,
   "metadata": {},
   "outputs": [
    {
     "name": "stdout",
     "output_type": "stream",
     "text": [
      "Your BMI is: 21.26\n",
      "You have a normal weight.\n"
     ]
    }
   ],
   "source": [
    "def calculate_bmi():\n",
    "    try:\n",
    "        weight = float(input(\"Enter your weight in kg: \"))\n",
    "        height = float(input(\"Enter your height in meters: \"))\n",
    "        \n",
    "        if weight <= 0 or height <= 0:\n",
    "            print(\"Weight and height must be positive values.\")\n",
    "            return\n",
    "        \n",
    "        bmi = weight / (height**2)\n",
    "        \n",
    "        print(f\"Your BMI is: {bmi:.2f}\")\n",
    "        \n",
    "        if bmi < 18.5:\n",
    "            print(\"You are underweight.\")\n",
    "        elif 18.5 <= bmi < 24.9:\n",
    "            print(\"You have a normal weight.\")\n",
    "        elif 25 <= bmi < 29.9:\n",
    "            print(\"You are overweight.\")\n",
    "        else:\n",
    "            print(\"You are obese.\")\n",
    "    except:\n",
    "        print(\"Please enter valid numerical values for weight and height.\", weight, height)\n",
    "\n",
    "# Run the function\n",
    "calculate_bmi()"
   ]
  },
  {
   "cell_type": "markdown",
   "metadata": {},
   "source": [
    "Level1- Exercise 2\n",
    "Temperature converter.\n",
    "\n",
    "There are several temperature units used in different contexts and regions. The most common are Celsius (°C), Fahrenheit (°F) and Kelvin (K). There are also other units such as Rankine (°Ra) and Réaumur (°Re). Select at least 2 converters, so that when entering a temperature, it returns at least two conversions."
   ]
  },
  {
   "cell_type": "code",
   "execution_count": 3,
   "metadata": {},
   "outputs": [
    {
     "name": "stdout",
     "output_type": "stream",
     "text": [
      "50.0°C is 122.00°F and 323.15K\n"
     ]
    }
   ],
   "source": [
    "#1\n",
    "def convert_temperature():\n",
    "    try:\n",
    "        temp = float(input(\"Enter the temperature: \"))\n",
    "        unit = input(\"Enter the unit (C, F, K): \").strip().upper()\n",
    "        \n",
    "        if unit == \"C\":\n",
    "            fahrenheit = (temp * 9/5) + 32\n",
    "            kelvin = temp + 273.15\n",
    "            print(f\"{temp}°C is {fahrenheit:.2f}°F and {kelvin:.2f}K\")\n",
    "        elif unit == \"F\":\n",
    "            celsius = (temp - 32) * 5/9\n",
    "            kelvin = (temp - 32) * 5/9 + 273.15\n",
    "            print(f\"{temp}°F is {celsius:.2f}°C and {kelvin:.2f}K\")\n",
    "        elif unit == \"K\":\n",
    "            celsius = temp - 273.15\n",
    "            fahrenheit = (temp - 273.15) * 9/5 + 32\n",
    "            print(f\"{temp}K is {celsius:.2f}°C and {fahrenheit:.2f}°F\")\n",
    "        else:\n",
    "            print(\"Invalid unit. Please enter C, F, or K.\")\n",
    "    except ValueError:\n",
    "        print(\"Please enter a valid numerical temperature.\")\n",
    "\n",
    "# Run the function\n",
    "convert_temperature()\n"
   ]
  },
  {
   "cell_type": "code",
   "execution_count": 1,
   "metadata": {},
   "outputs": [
    {
     "name": "stdout",
     "output_type": "stream",
     "text": [
      "\n",
      "12.0°F converts to:\n",
      "  -11.11°C\n",
      "  262.04°K\n",
      "  471.67°Ra\n",
      "  -8.89°Re\n"
     ]
    }
   ],
   "source": [
    "#2\n",
    "def celsius_to_other(temp):\n",
    "    return {\n",
    "        \"F\": (temp * 9/5) + 32,\n",
    "        \"K\": temp + 273.15,\n",
    "        \"Ra\": (temp + 273.15) * 9/5,\n",
    "        \"Re\": temp * 4/5\n",
    "    }\n",
    "\n",
    "def fahrenheit_to_other(temp):\n",
    "    return {\n",
    "        \"C\": (temp - 32) * 5/9,\n",
    "        \"K\": (temp - 32) * 5/9 + 273.15,\n",
    "        \"Ra\": temp + 459.67,\n",
    "        \"Re\": (temp - 32) * 4/9\n",
    "    }\n",
    "\n",
    "def kelvin_to_other(temp):\n",
    "    return {\n",
    "        \"C\": temp - 273.15,\n",
    "        \"F\": (temp - 273.15) * 9/5 + 32,\n",
    "        \"Ra\": temp * 9/5,\n",
    "        \"Re\": (temp - 273.15) * 4/5\n",
    "    }\n",
    "\n",
    "def rankine_to_other(temp):\n",
    "    return {\n",
    "        \"C\": (temp - 491.67) * 5/9,\n",
    "        \"F\": temp - 459.67,\n",
    "        \"K\": temp * 5/9,\n",
    "        \"Re\": (temp - 491.67) * 4/9\n",
    "    }\n",
    "\n",
    "def reaumur_to_other(temp):\n",
    "    return {\n",
    "        \"C\": temp * 5/4,\n",
    "        \"F\": (temp * 9/4) + 32,\n",
    "        \"K\": (temp * 5/4) + 273.15,\n",
    "        \"Ra\": (temp * 9/4) + 491.67\n",
    "    }\n",
    "\n",
    "def convert_temperature():\n",
    "    try:\n",
    "        temp = float(input(\"Enter the temperature: \"))\n",
    "        unit = input(\"Enter the unit (C, F, K, Ra, Re): \").strip().upper()\n",
    "\n",
    "        conversion_functions = {\n",
    "            \"C\": celsius_to_other,\n",
    "            \"F\": fahrenheit_to_other,\n",
    "            \"K\": kelvin_to_other,\n",
    "            \"Ra\": rankine_to_other,\n",
    "            \"Re\": reaumur_to_other\n",
    "        }\n",
    "\n",
    "        if unit in conversion_functions:\n",
    "            conversions = conversion_functions[unit](temp)\n",
    "            print(f\"\\n{temp}°{unit} converts to:\")\n",
    "            for key, value in conversions.items():\n",
    "                print(f\"  {value:.2f}°{key}\")\n",
    "        else:\n",
    "            print(\"Invalid unit. Please enter C, F, K, Ra, or Re.\")\n",
    "\n",
    "    except ValueError:\n",
    "        print(\"Please enter a valid numerical temperature.\")\n",
    "\n",
    "# Run the function\n",
    "convert_temperature()\n"
   ]
  },
  {
   "cell_type": "markdown",
   "metadata": {},
   "source": [
    "Level 1- Exercise 3:\n",
    "Word counter of a text.\n",
    "Write a function that, given a text, displays the number of times each word appears.\n"
   ]
  },
  {
   "cell_type": "code",
   "execution_count": 4,
   "metadata": {},
   "outputs": [
    {
     "data": {
      "text/plain": [
       "{'hola': 3, 'como': 1, 'estas': 1}"
      ]
     },
     "execution_count": 4,
     "metadata": {},
     "output_type": "execute_result"
    }
   ],
   "source": [
    "def word_counter(text):\n",
    "    words = text.lower().split()  # romper la frase a las palabras\n",
    "    word_count = {}  \n",
    "\n",
    "    for word in words:  # contar las palabras de la frase\n",
    "        if word in word_count:\n",
    "            word_count[word] += 1  \n",
    "        else:\n",
    "            word_count[word] = 1 \n",
    "\n",
    "    return word_count # mostrar el resultado \n",
    "\n",
    "\n",
    "#pedir frase a usuario \n",
    "text = input(\"importa una frase porfavor \")\n",
    "word_counter(text)\n"
   ]
  },
  {
   "cell_type": "code",
   "execution_count": null,
   "metadata": {},
   "outputs": [
    {
     "name": "stdout",
     "output_type": "stream",
     "text": [
      "{'hola': 2}\n"
     ]
    }
   ],
   "source": [
    "#1\n",
    "def word_counter(text):\n",
    "    words = text.lower().split()  # romper el texto a las palabras \n",
    "    word_count = {} \n",
    "\n",
    "    for word in words:  \n",
    "        if word in word_count:\n",
    "            word_count[word] += 1 \n",
    "        else:\n",
    "            word_count[word] = 1 \n",
    "\n",
    "    return word_count  \n",
    "text = input(\"por favor importe una frase\")\n",
    "print(word_counter(text))"
   ]
  },
  {
   "cell_type": "code",
   "execution_count": null,
   "metadata": {},
   "outputs": [
    {
     "name": "stdout",
     "output_type": "stream",
     "text": [
      "hola: 1\n",
      "como: 2\n",
      "estas: 1\n",
      "hoy: 1\n",
      "?: 1\n",
      "estabas: 1\n",
      "ayer?: 1\n"
     ]
    }
   ],
   "source": [
    "#2\n",
    "from collections import Counter\n",
    "\n",
    "def word_counter(text):\n",
    "    words = text.split()\n",
    "    word_count = Counter(words) \n",
    "    \n",
    "    for word, count in word_count.items():\n",
    "        print(f\"{word}: {count}\")\n",
    "\n",
    "\n",
    "text = input(\"importa un texto porfavor: \")\n",
    "word_counter(text)\n"
   ]
  },
  {
   "cell_type": "markdown",
   "metadata": {},
   "source": [
    "Level 1-E4:\n",
    "Reverse dictionary.\n",
    "It turns out that the client has a very old survey stored in a dictionary and needs the results in reverse, i.e., with the keys and values swapped. The values and keys in the original dictionary are unique; if this is not the case, the function should print a warning message.\n"
   ]
  },
  {
   "cell_type": "code",
   "execution_count": 9,
   "metadata": {},
   "outputs": [
    {
     "name": "stdout",
     "output_type": "stream",
     "text": [
      "{1: 'a', 2: 'b', 3: 'c'}\n"
     ]
    }
   ],
   "source": [
    "#1 aqui no el diccionari original no se puede importar con usuario!\n",
    "def reverse_dict(original_dict):\n",
    "    reversed_dict = {}\n",
    "    for key, value in original_dict.items():\n",
    "        if value in reversed_dict: #para que de error en caso de duplicados\n",
    "            print(\"Warning: The dictionary contains duplicate values.\")\n",
    "            return None\n",
    "        reversed_dict[value] = key\n",
    "    print(reversed_dict)\n",
    "\n",
    "#Ejemplo:\n",
    "original_dict ={'a': 1, 'b': 2, 'c': 3}\n",
    "#reversed_dict =\n",
    "reverse_dict(original_dict)\n",
    "\n",
    "#print(reversed_dict)\n",
    "\n"
   ]
  },
  {
   "cell_type": "code",
   "execution_count": null,
   "metadata": {},
   "outputs": [
    {
     "name": "stdout",
     "output_type": "stream",
     "text": [
      "Reversed dictionary: {1: 'a', 30: 'm'}\n"
     ]
    }
   ],
   "source": [
    "#2 aqui para importar el diccionari original se pide a usuari que entregue la info!\n",
    "def reverse_dict(original_dict):\n",
    "    reversed_dict = {}\n",
    "    for key, value in original_dict.items():\n",
    "        if value in reversed_dict:\n",
    "            print(\"Warning: The dictionary contains duplicate values.\")\n",
    "            return None\n",
    "        reversed_dict[value] = key\n",
    "    return reversed_dict\n",
    "\n",
    "#pedir info a usuario\n",
    "def get_dict_from_user():\n",
    "    user_input = input(\"Enter a dictionary (e.g., {'a': 1, 'b': 2}): \")\n",
    "    \n",
    "    try:\n",
    "        #convertir el texto a diccionari \n",
    "        original_dict = eval(user_input)\n",
    "        \n",
    "        if type(original_dict) == dict:\n",
    "            return original_dict\n",
    "        else:\n",
    "            print(\"Input is not a valid dictionary.\")\n",
    "            return None\n",
    "    except:\n",
    "        print(\"Invalid input format. Please enter a valid dictionary.\")\n",
    "        return None\n",
    "\n",
    "# pedir diccionari a usuario\n",
    "original_dict = get_dict_from_user()\n",
    "\n",
    "if original_dict:\n",
    "    #reversed diccionay\n",
    "    reversed_dict = reverse_dict(original_dict)\n",
    "    \n",
    "    if reversed_dict:\n",
    "        print(\"Reversed dictionary:\", reversed_dict)"
   ]
  },
  {
   "cell_type": "markdown",
   "metadata": {},
   "source": [
    "Level 2- Exercise 1:\n",
    "Reverse dictionary with duplicates\n",
    "Continuing with exercise 4 of level 1: the client forgot to comment on a detail and it turns out that the values in the original dictionary can be duplicated and more, so the exchanged keys can have duplicates. In this case, in the previous exercise you printed a warning message, now, the values of the resulting dictionary must be stored as a list. Keep in mind that if it is a single value it does not have to be a list.\n"
   ]
  },
  {
   "cell_type": "code",
   "execution_count": 11,
   "metadata": {},
   "outputs": [
    {
     "name": "stdout",
     "output_type": "stream",
     "text": [
      "{1: ['a', 'c'], 2: ['b', 'e'], 3: 'd'}\n"
     ]
    }
   ],
   "source": [
    "def reverse_dict_with_duplicates(d):\n",
    "    new_dict = {}  # nuevo diccionari\n",
    "\n",
    "    for key, value in d.items():  #  bucle para recorrer el diccionario  \n",
    "        if value in new_dict:  # si el valor ya existe\n",
    "            if isinstance(new_dict[value], list):  # si la lista existe\n",
    "                new_dict[value].append(key)  # Añadir la nueva clave a la lista\n",
    "            else:\n",
    "                new_dict[value] = [new_dict[value], key]  # Si no hay lista, la convertimosen una lista\n",
    "        else:\n",
    "            new_dict[value] = key  # si el valor no existia previamente, lo añadimos\n",
    "\n",
    "    print(new_dict)   #devolvemos el diccionario sin ningun cambio\n",
    "\n",
    "#ejemplo\n",
    "original_dict = {\"a\": 1, \"b\": 2, \"c\": 1, \"d\": 3, \"e\": 2}\n",
    "reverse_dict_with_duplicates(original_dict)\n"
   ]
  },
  {
   "cell_type": "markdown",
   "metadata": {},
   "source": [
    "\n",
    "Level 2 - Exercise 2\n",
    "Data type conversion\n",
    "The client receives a list of data and needs to generate two lists, the first containing all the elements that could be converted to floats and the other containing the elements that could not be converted. Example of the list the client receives: [ '1.3', 'one' , '1e10' , 'seven', '3-1/2', ('2',1,1.4,'not-a-number'), [1,2,'3','3.4']]"
   ]
  },
  {
   "cell_type": "code",
   "execution_count": 14,
   "metadata": {},
   "outputs": [
    {
     "name": "stdout",
     "output_type": "stream",
     "text": [
      "Elementos convertibles a float: [1.3, 10000000000.0, 2.0, 1.0, 1.4, 1.0, 2.0, 3.0, 3.4]\n",
      "Elementos no convertibles a float: ['one', 'seven', '3-1/2', 'not a number']\n"
     ]
    }
   ],
   "source": [
    "def separar_datos(conversion):\n",
    "    convertibles=[]\n",
    "    no_convertibles=[]\n",
    "\n",
    "    for elemento in conversion:\n",
    "        # si el elemento es una tupla o una lista lo operamos internamente \n",
    "        if isinstance(elemento,(list,tuple)):\n",
    "            for subelemento in elemento:\n",
    "                try:\n",
    "                    convertibles.append(float(subelemento))\n",
    "                except (ValueError, TypeError):\n",
    "                    no_convertibles.append(subelemento)\n",
    "        else:\n",
    "            try:\n",
    "                convertibles.append(float(elemento))\n",
    "            except (ValueError, TypeError):\n",
    "                no_convertibles.append(elemento)\n",
    "    return convertibles, no_convertibles\n",
    "\n",
    "conversion=['1.3','one','1e10','seven','3-1/2',('2',1,1.4,'not a number'),[1,2,'3','3.4']]\n",
    "convertibles, no_convertibles = separar_datos(conversion)\n",
    "\n",
    "print(\"Elementos convertibles a float:\", convertibles)\n",
    "print(\"Elementos no convertibles a float:\", no_convertibles)\n"
   ]
  },
  {
   "cell_type": "markdown",
   "metadata": {},
   "source": [
    "Level 3- Exercise 1\n",
    "Text word counter and sorter.\n",
    "The client was happy with the word counter, but now he wants to read TXT files and calculate the frequency of each word ordered within the usual dictionary entries according to the letter they begin with, that is, the keys must go from A to Z and within A we must go from A to Z. For example, for the file \"tu_me_quieres_blanca.txt\" the expected output would be:\n"
   ]
  },
  {
   "cell_type": "code",
   "execution_count": null,
   "metadata": {},
   "outputs": [
    {
     "name": "stdout",
     "output_type": "stream",
     "text": [
      "{'A': {'a': 3,\n",
      "       'agua': 1,\n",
      "       'al': 2,\n",
      "       'alba': 4,\n",
      "       'alcobas': 1,\n",
      "       'alimenta': 1,\n",
      "       'alma': 1,\n",
      "       'amarga': 1,\n",
      "       'azucena': 1},\n",
      " 'B': {'baco': 1,\n",
      "       'banquete': 1,\n",
      "       'bebe': 1,\n",
      "       'blanca': 3,\n",
      "       'boca': 1,\n",
      "       'bosques': 1,\n",
      "       'buen': 1},\n",
      " 'C': {'cabañas': 1,\n",
      "       'carnes': 2,\n",
      "       'casta': 3,\n",
      "       'cerrada': 1,\n",
      "       'con': 4,\n",
      "       'conservas': 1,\n",
      "       'copas': 1,\n",
      "       'corola': 1,\n",
      "       'corriste': 1,\n",
      "       'cuando': 2,\n",
      "       'cubierto': 1,\n",
      "       'cuerpo': 1,\n",
      "       'cuáles': 1},\n",
      " 'D': {'de': 8, 'dejaste': 1, 'del': 1, 'diga': 1, 'dios': 2, 'duerme': 1},\n",
      " 'E': {'el': 4,\n",
      "       'ellas': 1,\n",
      "       'en': 4,\n",
      "       'engaño': 1,\n",
      "       'enredada': 1,\n",
      "       'entonces': 1,\n",
      "       'escarcha': 1,\n",
      "       'espumas': 1,\n",
      "       'esqueleto': 1,\n",
      "       'estrago': 1},\n",
      " 'F': {'festejando': 1, 'filtrado': 1, 'frutos': 1},\n",
      " 'H': {'habla': 1,\n",
      "       'hacia': 1,\n",
      "       'haya': 1,\n",
      "       'hayas': 1,\n",
      "       'hermana': 1,\n",
      "       'hombre': 1,\n",
      "       'hubiste': 1,\n",
      "       'huye': 1},\n",
      " 'I': {'intacto': 1},\n",
      " 'J': {'jardines': 1},\n",
      " 'L': {'la': 3,\n",
      "       'labios': 1,\n",
      "       'las': 7,\n",
      "       'lo': 2,\n",
      "       'los': 4,\n",
      "       'luna': 1,\n",
      "       'lévate': 1,\n",
      "       'límpiate': 1},\n",
      " 'M': {'mano': 1,\n",
      "       'manos': 1,\n",
      "       'margarita': 1,\n",
      "       'me': 9,\n",
      "       'mi': 1,\n",
      "       'mieles': 1,\n",
      "       'milagros': 1,\n",
      "       'mojada': 1,\n",
      "       'montaña': 1,\n",
      "       'morados': 1},\n",
      " 'N': {'negros': 1, 'ni': 2, 'no': 1, 'nácar': 1, 'nívea': 2},\n",
      " 'P': {'perdone': 2,\n",
      "       'perfume': 1,\n",
      "       'por': 2,\n",
      "       'pretendes': 3,\n",
      "       'preténdeme': 3,\n",
      "       'puesto': 1,\n",
      "       'pájaros': 1,\n",
      "       'pámpanos': 1},\n",
      " 'Q': {'que': 6, 'quedó': 1, 'quieres': 6},\n",
      " 'R': {'rayo': 1, 'raíz': 1, 'renueva': 1, 'rocas': 1, 'rojo': 1},\n",
      " 'S': {'salitre': 1, 'se': 2, 'sea': 1, 'sean': 1, 'sobre': 2, 'sé': 1},\n",
      " 'T': {'te': 3,\n",
      "       'tejidos': 1,\n",
      "       'tenue': 1,\n",
      "       'tierra': 1,\n",
      "       'toca': 1,\n",
      "       'todas': 2,\n",
      "       'todavía': 1,\n",
      "       'tornadas': 1,\n",
      "       'tú': 8},\n",
      " 'U': {'un': 1, 'una': 1},\n",
      " 'V': {'vestido': 1, 'vete': 1, 'vive': 1},\n",
      " 'Y': {'y': 5},\n",
      " '¡': {'¡me': 1}}\n"
     ]
    }
   ],
   "source": [
    "import string\n",
    "import pprint  \n",
    "\n",
    "def count_words_in_file(filename):\n",
    "    word_count = {}  #crear un diccionario para contar las palabras\n",
    "    \n",
    "    # leer el archivo\n",
    "    with open(filename, 'r', encoding='utf-8') as file:\n",
    "        for line in file:\n",
    "            # quitar los signos de puntuacion y convertir a minusculas\n",
    "            line = line.translate(str.maketrans('', '', string.punctuation)).lower()\n",
    "            words = line.split()  #convertir el texto a las palabras\n",
    "            \n",
    "            # contar las palabras \n",
    "            for word in words:\n",
    "                if word in word_count:\n",
    "                    word_count[word] += 1\n",
    "                else:\n",
    "                    word_count[word] = 1\n",
    "\n",
    "    # ordenar el diccionario alfabetico\n",
    "    sorted_words = {}\n",
    "    for word in sorted(word_count.keys()):  #ordenar las palabras alfabetico\n",
    "        first_letter = word[0].upper()  # seleccionar la primera letra de las palabras y convertirla a mauscula\n",
    "        if first_letter not in sorted_words:\n",
    "            sorted_words[first_letter] = {}  # sin no existe la letra, añadela\n",
    "        sorted_words[first_letter][word] = word_count[word]  \n",
    "\n",
    "    return sorted_words\n",
    "\n",
    "# llamarel archivo con la funcion  \n",
    "filename = 'C:/Users/CanteMosh/Downloads/tu_me_quieres_blanca.txt'\n",
    "word_frequencies = count_words_in_file(filename)\n",
    "\n",
    "# mostrar el resultado\n",
    "pprint.pprint(word_frequencies)"
   ]
  }
 ],
 "metadata": {
  "kernelspec": {
   "display_name": "Python 3",
   "language": "python",
   "name": "python3"
  },
  "language_info": {
   "codemirror_mode": {
    "name": "ipython",
    "version": 3
   },
   "file_extension": ".py",
   "mimetype": "text/x-python",
   "name": "python",
   "nbconvert_exporter": "python",
   "pygments_lexer": "ipython3",
   "version": "3.13.2"
  }
 },
 "nbformat": 4,
 "nbformat_minor": 2
}
